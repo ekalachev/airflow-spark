{
 "cells": [
  {
   "cell_type": "code",
   "execution_count": 1,
   "metadata": {},
   "outputs": [
    {
     "output_type": "stream",
     "name": "stdout",
     "text": [
      "Lines with a: 653, lines with b: 309\n"
     ]
    }
   ],
   "source": [
    "# Create Spark Context\n",
    "from pyspark import SparkContext\n",
    "sc = SparkContext()\n",
    "\n",
    "# Set file\n",
    "logFile = \"/home/eldar/work/data/airflow.cfg\"\n",
    "\n",
    "# Read file\n",
    "logData = sc.textFile(logFile).cache()\n",
    "\n",
    "# Get lines with A\n",
    "numAs = logData.filter(lambda s: 'a' in s).count()\n",
    "\n",
    "# Get lines with B \n",
    "numBs = logData.filter(lambda s: 'b' in s).count()\n",
    "\n",
    "# Print result\n",
    "print(\"Lines with a: {}, lines with b: {}\".format(numAs, numBs))"
   ]
  }
 ],
 "metadata": {
  "kernelspec": {
   "display_name": "Python 3",
   "language": "python",
   "name": "python3"
  }
 },
 "nbformat": 4,
 "nbformat_minor": 4
}